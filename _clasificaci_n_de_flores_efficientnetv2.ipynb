{
  "nbformat": 4,
  "nbformat_minor": 0,
  "metadata": {
    "colab": {
      "provenance": [],
      "gpuType": "T4",
      "collapsed_sections": [
        "e-I0b8Yyg9J-"
      ],
      "authorship_tag": "ABX9TyNrCVdPn3pbGQna1txIueMD",
      "include_colab_link": true
    },
    "kernelspec": {
      "name": "python3",
      "display_name": "Python 3"
    },
    "language_info": {
      "name": "python"
    },
    "accelerator": "GPU"
  },
  "cells": [
    {
      "cell_type": "markdown",
      "metadata": {
        "id": "view-in-github",
        "colab_type": "text"
      },
      "source": [
        "<a href=\"https://colab.research.google.com/github/Escandonn/Ia-Clasificacion-img/blob/main/_clasificaci_n_de_flores_efficientnetv2.ipynb\" target=\"_parent\"><img src=\"https://colab.research.google.com/assets/colab-badge.svg\" alt=\"Open In Colab\"/></a>"
      ]
    },
    {
      "cell_type": "markdown",
      "source": [
        "# Configurar TensorFlow 2.x:\n",
        "### Asegúrate de que Colab esté usando TensorFlow 2.x ejecutando la siguiente celda al principio de tu notebook:"
      ],
      "metadata": {
        "id": "e-I0b8Yyg9J-"
      }
    },
    {
      "cell_type": "code",
      "execution_count": 1,
      "metadata": {
        "colab": {
          "base_uri": "https://localhost:8080/"
        },
        "id": "qgnKAgENgzLj",
        "outputId": "f14a5afe-f7ab-4362-a135-91f3245098bd"
      },
      "outputs": [
        {
          "output_type": "stream",
          "name": "stdout",
          "text": [
            "Colab only includes TensorFlow 2.x; %tensorflow_version has no effect.\n"
          ]
        }
      ],
      "source": [
        "%tensorflow_version 2.x\n"
      ]
    },
    {
      "cell_type": "markdown",
      "source": [
        "# importar Bibliotecas Necesarias:\n",
        "### Importa las bibliotecas necesarias, incluyendo TensorFlow, TensorFlow Hub y otras utilidades estándar de Python:"
      ],
      "metadata": {
        "id": "wA0FW5LBhFqD"
      }
    },
    {
      "cell_type": "code",
      "source": [
        "import tensorflow as tf\n",
        "import tensorflow_hub as hub\n",
        "import matplotlib.pyplot as plt\n",
        "import numpy as np\n"
      ],
      "metadata": {
        "id": "6ZDTBmmZhM-H"
      },
      "execution_count": 2,
      "outputs": []
    },
    {
      "cell_type": "markdown",
      "source": [
        "#Selección del Modelo y Configuración\n",
        "### Selección del Modelo: Vamos a utilizar EfficientNetV2 desde TensorFlow Hub para la clasificación de imágenes. Puedes elegir diferentes variantes del modelo según tus necesidades:"
      ],
      "metadata": {
        "id": "wLSNivSmhT8H"
      }
    },
    {
      "cell_type": "code",
      "source": [
        "model_name = \"efficientnetv2-xl-21k\"\n",
        "model_handle_map = {\n",
        "    \"efficientnetv2-xl-21k\": \"https://tfhub.dev/google/imagenet/efficientnet_v2_imagenet21k_xl/feature_vector/2\",\n",
        "}\n",
        "model_handle = model_handle_map.get(model_name)\n"
      ],
      "metadata": {
        "id": "3X1qKSxHhZNk"
      },
      "execution_count": 3,
      "outputs": []
    },
    {
      "cell_type": "markdown",
      "source": [
        "# Tamaño de Imagen:\n",
        "### Define el tamaño de imagen que el modelo espera como entrada. Este tamaño puede variar según el modelo seleccionado:"
      ],
      "metadata": {
        "id": "otLKztFohfeg"
      }
    },
    {
      "cell_type": "code",
      "source": [
        "IMAGE_SIZE = (512, 512)  # Tamaño de imagen para el modelo seleccionado\n"
      ],
      "metadata": {
        "id": "qPiiN2G-hrKi"
      },
      "execution_count": 4,
      "outputs": []
    },
    {
      "cell_type": "markdown",
      "source": [
        "#Preparación de los Datos\n",
        "### Descargar y Preparar el Conjunto de Datos: Utilizaremos un conjunto de datos de ejemplo de flores para este tutorial. El siguiente código descargará y preparará el conjunto de datos automáticamente:"
      ],
      "metadata": {
        "id": "dJby7CwOhy0E"
      }
    },
    {
      "cell_type": "code",
      "source": [
        "data_dir = tf.keras.utils.get_file(\n",
        "    'flower_photos',\n",
        "    'https://storage.googleapis.com/download.tensorflow.org/example_images/flower_photos.tgz',\n",
        "    untar=True)\n"
      ],
      "metadata": {
        "colab": {
          "base_uri": "https://localhost:8080/"
        },
        "id": "o0FgItHMh2PW",
        "outputId": "74fbc9be-a20d-4984-e07b-9d675be4cd70"
      },
      "execution_count": 5,
      "outputs": [
        {
          "output_type": "stream",
          "name": "stdout",
          "text": [
            "Downloading data from https://storage.googleapis.com/download.tensorflow.org/example_images/flower_photos.tgz\n",
            "228813984/228813984 [==============================] - 12s 0us/step\n"
          ]
        }
      ]
    },
    {
      "cell_type": "markdown",
      "source": [
        "#Configuración de Generadores de Datos:\n",
        "### Configura generadores de datos para entrenamiento y validación utilizando tf.keras.preprocessing.image.ImageDataGenerator. Asegúrate de ajustar los parámetros según tus necesidades, como el tamaño de imagen y el tamaño del lote:"
      ],
      "metadata": {
        "id": "L6BZDrCyh6vr"
      }
    },
    {
      "cell_type": "code",
      "source": [
        "datagen_kwargs = dict(rescale=1./255, validation_split=.20)\n",
        "dataflow_kwargs = dict(target_size=IMAGE_SIZE, batch_size=32, interpolation=\"bilinear\")\n",
        "\n",
        "datagen = tf.keras.preprocessing.image.ImageDataGenerator(**datagen_kwargs)\n",
        "valid_datagen = tf.keras.preprocessing.image.ImageDataGenerator(**datagen_kwargs)\n",
        "\n",
        "train_generator = datagen.flow_from_directory(\n",
        "    data_dir, subset=\"training\", shuffle=True, **dataflow_kwargs)\n",
        "\n",
        "val_generator = valid_datagen.flow_from_directory(\n",
        "    data_dir, subset=\"validation\", shuffle=False, **dataflow_kwargs)\n"
      ],
      "metadata": {
        "colab": {
          "base_uri": "https://localhost:8080/"
        },
        "id": "w8cM7Tw5iC5G",
        "outputId": "ae483de1-8357-4b3e-d1ca-574b52469a11"
      },
      "execution_count": 6,
      "outputs": [
        {
          "output_type": "stream",
          "name": "stdout",
          "text": [
            "Found 2939 images belonging to 5 classes.\n",
            "Found 731 images belonging to 5 classes.\n"
          ]
        }
      ]
    },
    {
      "cell_type": "markdown",
      "source": [
        "#Construcción y Compilación del Modelo\n",
        "### Construcción del Modelo: Utiliza TensorFlow Hub para crear un modelo secuencial que incluya el modelo EfficientNetV2 como una capa Keras:"
      ],
      "metadata": {
        "id": "XCbr3FcSiGjd"
      }
    },
    {
      "cell_type": "code",
      "source": [
        "do_fine_tuning = False  # Ajuste fino del modelo\n",
        "\n",
        "print(\"Building model with\", model_handle)\n",
        "model = tf.keras.Sequential([\n",
        "    tf.keras.layers.InputLayer(input_shape=IMAGE_SIZE + (3,)),\n",
        "    hub.KerasLayer(model_handle, trainable=do_fine_tuning),\n",
        "    tf.keras.layers.Dropout(rate=0.2),\n",
        "    tf.keras.layers.Dense(train_generator.num_classes, activation='softmax')\n",
        "])\n"
      ],
      "metadata": {
        "colab": {
          "base_uri": "https://localhost:8080/"
        },
        "id": "zH9Khz2xiMJv",
        "outputId": "e60ac1df-34e1-4a5b-8fa8-573e090f3a70"
      },
      "execution_count": 7,
      "outputs": [
        {
          "output_type": "stream",
          "name": "stdout",
          "text": [
            "Building model with https://tfhub.dev/google/imagenet/efficientnet_v2_imagenet21k_xl/feature_vector/2\n"
          ]
        }
      ]
    },
    {
      "cell_type": "markdown",
      "source": [
        "#Compilación del Modelo:\n",
        "### Compila el modelo especificando el optimizador, la función de pérdida y las métricas:"
      ],
      "metadata": {
        "id": "WQsTDd2BicZF"
      }
    },
    {
      "cell_type": "code",
      "source": [
        "model.compile(\n",
        "    optimizer=tf.keras.optimizers.Adam(),\n",
        "    loss=tf.keras.losses.CategoricalCrossentropy(from_logits=True, label_smoothing=0.1),\n",
        "    metrics=['accuracy'])\n"
      ],
      "metadata": {
        "id": "DiSgHV2ziorU"
      },
      "execution_count": 8,
      "outputs": []
    },
    {
      "cell_type": "markdown",
      "source": [
        "# Entrenamiento y Evaluación del Modelo\n",
        "### Entrenamiento del Modelo: Entrena el modelo utilizando el generador de datos de entrenamiento y especificando el número de épocas:"
      ],
      "metadata": {
        "id": "A1dcIJyfitp9"
      }
    },
    {
      "cell_type": "code",
      "source": [
        "epochs = 5\n",
        "\n",
        "history = model.fit(\n",
        "    train_generator,\n",
        "    epochs=epochs,\n",
        "    validation_data=val_generator)\n"
      ],
      "metadata": {
        "id": "4pNHAT_4iwHN",
        "colab": {
          "base_uri": "https://localhost:8080/"
        },
        "outputId": "c20908ce-d9a2-4439-ecef-fef67d29a0ed"
      },
      "execution_count": 9,
      "outputs": [
        {
          "metadata": {
            "tags": null
          },
          "name": "stdout",
          "output_type": "stream",
          "text": [
            "Epoch 1/5\n"
          ]
        },
        {
          "metadata": {
            "tags": null
          },
          "name": "stderr",
          "output_type": "stream",
          "text": [
            "/usr/local/lib/python3.10/dist-packages/keras/src/backend.py:5575: UserWarning: \"`categorical_crossentropy` received `from_logits=True`, but the `output` argument was produced by a Softmax activation and thus does not represent logits. Was this intended?\n",
            "  output, from_logits = _get_logits(\n"
          ]
        },
        {
          "output_type": "stream",
          "name": "stdout",
          "text": [
            "92/92 [==============================] - 349s 3s/step - loss: 0.8138 - accuracy: 0.8527 - val_loss: 0.5529 - val_accuracy: 0.9590\n",
            "Epoch 2/5\n",
            "92/92 [==============================] - 289s 3s/step - loss: 0.5664 - accuracy: 0.9578 - val_loss: 0.5423 - val_accuracy: 0.9508\n",
            "Epoch 3/5\n",
            "92/92 [==============================] - 289s 3s/step - loss: 0.5250 - accuracy: 0.9731 - val_loss: 0.5143 - val_accuracy: 0.9617\n",
            "Epoch 4/5\n",
            "92/92 [==============================] - 289s 3s/step - loss: 0.5046 - accuracy: 0.9758 - val_loss: 0.5070 - val_accuracy: 0.9631\n",
            "Epoch 5/5\n",
            "92/92 [==============================] - 290s 3s/step - loss: 0.4855 - accuracy: 0.9833 - val_loss: 0.4984 - val_accuracy: 0.9631\n"
          ]
        }
      ]
    },
    {
      "cell_type": "markdown",
      "source": [
        "#Evaluación del Modelo:\n",
        "### Evalúa el modelo en el conjunto de validación para obtener la precisión final:"
      ],
      "metadata": {
        "id": "85W76OX8i3oY"
      }
    },
    {
      "cell_type": "code",
      "source": [],
      "metadata": {
        "id": "0269aBp29uCe"
      },
      "execution_count": null,
      "outputs": []
    },
    {
      "cell_type": "code",
      "source": [],
      "metadata": {
        "id": "Ejij32qd9uVV"
      },
      "execution_count": null,
      "outputs": []
    },
    {
      "cell_type": "code",
      "source": [
        "loss, accuracy = model.evaluate(val_generator)\n",
        "print(f'Validation accuracy: {accuracy:.2f}')\n"
      ],
      "metadata": {
        "colab": {
          "base_uri": "https://localhost:8080/"
        },
        "id": "gWmYfYs2i62E",
        "outputId": "a4e18f32-b6c0-4231-9ec0-96f36e27a09f"
      },
      "execution_count": 10,
      "outputs": [
        {
          "output_type": "stream",
          "name": "stdout",
          "text": [
            "23/23 [==============================] - 58s 3s/step - loss: 0.4984 - accuracy: 0.9631\n",
            "Validation accuracy: 0.96\n"
          ]
        }
      ]
    },
    {
      "cell_type": "markdown",
      "source": [
        "#Visualización de Resultados\n",
        "### Visualización de Métricas de Entrenamiento: Grafica la precisión y la pérdida durante el entrenamiento y validación para evaluar el rendimiento del modelo:"
      ],
      "metadata": {
        "id": "dN-QZWMAjAxf"
      }
    },
    {
      "cell_type": "code",
      "source": [
        "acc = history.history['accuracy']\n",
        "val_acc = history.history['val_accuracy']\n",
        "\n",
        "loss = history.history['loss']\n",
        "val_loss = history.history['val_loss']\n",
        "\n",
        "epochs_range = range(epochs)\n",
        "\n",
        "plt.figure(figsize=(15, 5))\n",
        "plt.subplot(1, 2, 1)\n",
        "plt.plot(epochs_range, acc, label='Training Accuracy')\n",
        "plt.plot(epochs_range, val_acc, label='Validation Accuracy')\n",
        "plt.legend(loc='lower right')\n",
        "plt.title('Training and Validation Accuracy')\n",
        "\n",
        "plt.subplot(1, 2, 2)\n",
        "plt.plot(epochs_range, loss, label='Training Loss')\n",
        "plt.plot(epochs_range, val_loss, label='Validation Loss')\n",
        "plt.legend(loc='upper right')\n",
        "plt.title('Training and Validation Loss')\n",
        "plt.show()\n"
      ],
      "metadata": {
        "colab": {
          "base_uri": "https://localhost:8080/",
          "height": 284
        },
        "id": "dPh9ecfMjEcA",
        "outputId": "89ad513b-b729-4230-8e6b-c0628dd67687"
      },
      "execution_count": 11,
      "outputs": [
        {
          "output_type": "display_data",
          "data": {
            "text/plain": [
              "<Figure size 1500x500 with 2 Axes>"
            ],
            "image/png": "[encoded data removed]"
          },
          "metadata": {}
        }
      ]
    }
  ]
}